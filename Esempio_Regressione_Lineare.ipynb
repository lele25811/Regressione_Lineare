{
  "nbformat": 4,
  "nbformat_minor": 0,
  "metadata": {
    "colab": {
      "provenance": [],
      "authorship_tag": "ABX9TyPMvplwyvc91dxmbr5eohIh",
      "include_colab_link": true
    },
    "kernelspec": {
      "name": "python3",
      "display_name": "Python 3"
    },
    "language_info": {
      "name": "python"
    }
  },
  "cells": [
    {
      "cell_type": "markdown",
      "metadata": {
        "id": "view-in-github",
        "colab_type": "text"
      },
      "source": [
        "<a href=\"https://colab.research.google.com/github/lele25811/Regressione_Lineare/blob/main/Esempio_Regressione_Lineare.ipynb\" target=\"_parent\"><img src=\"https://colab.research.google.com/assets/colab-badge.svg\" alt=\"Open In Colab\"/></a>"
      ]
    },
    {
      "cell_type": "markdown",
      "source": [
        "# La Regressione Lineare\n",
        "La regressione lineare è una tecnica statistica e di machine learning utilizzata per modellare la relazione tra una variabile dipendente (`target`) e una o più variabili indipendenti (`features`)."
      ],
      "metadata": {
        "id": "zGaG0A4zzujh"
      }
    },
    {
      "cell_type": "code",
      "source": [
        "import numpy as np  # per lavorare con array numerici\n",
        "import pandas as pd   # per la gestione dei dati in formato tabellare\n",
        "import matplotlib.pyplot as plt   # per la visualizzazione dei grafici\n",
        "from sklearn.model_selection import train_test_split  # per dividere i dati in set di training e test\n",
        "from sklearn.linear_model import LinearRegression   # modello di regressione lineare\n",
        "from sklearn.metrics import mean_squared_error, r2_score  # per valutare le prestazioni del modello"
      ],
      "metadata": {
        "id": "41SFgtwt0MrT"
      },
      "execution_count": 2,
      "outputs": []
    },
    {
      "cell_type": "markdown",
      "source": [
        "# Regressione Lineare applicata ad un contesto sintetico"
      ],
      "metadata": {
        "id": "NJjt-NDIIuXe"
      }
    },
    {
      "cell_type": "markdown",
      "source": [
        "## Creazione del Dataset\n",
        "Per semplicità in questo primo esempio genero un dataset sintetico con una relazione lineare tra una variabile indipendente X e una variabile dipendete Y."
      ],
      "metadata": {
        "id": "5b4AFSZv0Osx"
      }
    },
    {
      "cell_type": "code",
      "source": [
        "# Creo un dataset sintentico\n",
        "np.random.seed(42)\n",
        "\n",
        "# Genero 100 valori casuali per la variabile indipendete (features)\n",
        "X = 2 * np.random.rand(100, 1) # numeri casuali tra 0 e 2\n",
        "\n",
        "# Genero i valori della variabile dipendente con una relazione lineare più un po' di rumore\n",
        "y = 4 + 3 * X + np.random.randn(100, 1) # y = 4 + 3x + rumore\n",
        "\n",
        "# Converto i dati in un DataFrame pands per la gestion più comoda\n",
        "df = pd.DataFrame({'X': X.flatten(), 'y': y.flatten()})\n",
        "\n",
        "# Visualizzo per prime righe  del dataset\n",
        "df.head()"
      ],
      "metadata": {
        "colab": {
          "base_uri": "https://localhost:8080/",
          "height": 206
        },
        "id": "1mKmyroS03uJ",
        "outputId": "c537d5f6-1685-4836-809e-341aa65f5655"
      },
      "execution_count": 4,
      "outputs": [
        {
          "output_type": "execute_result",
          "data": {
            "text/plain": [
              "          X         y\n",
              "0  0.749080  6.334288\n",
              "1  1.901429  9.405278\n",
              "2  1.463988  8.483724\n",
              "3  1.197317  5.604382\n",
              "4  0.312037  4.716440"
            ],
            "text/html": [
              "\n",
              "  <div id=\"df-d2285a37-7430-466e-a14e-be835e1cb4d6\" class=\"colab-df-container\">\n",
              "    <div>\n",
              "<style scoped>\n",
              "    .dataframe tbody tr th:only-of-type {\n",
              "        vertical-align: middle;\n",
              "    }\n",
              "\n",
              "    .dataframe tbody tr th {\n",
              "        vertical-align: top;\n",
              "    }\n",
              "\n",
              "    .dataframe thead th {\n",
              "        text-align: right;\n",
              "    }\n",
              "</style>\n",
              "<table border=\"1\" class=\"dataframe\">\n",
              "  <thead>\n",
              "    <tr style=\"text-align: right;\">\n",
              "      <th></th>\n",
              "      <th>X</th>\n",
              "      <th>y</th>\n",
              "    </tr>\n",
              "  </thead>\n",
              "  <tbody>\n",
              "    <tr>\n",
              "      <th>0</th>\n",
              "      <td>0.749080</td>\n",
              "      <td>6.334288</td>\n",
              "    </tr>\n",
              "    <tr>\n",
              "      <th>1</th>\n",
              "      <td>1.901429</td>\n",
              "      <td>9.405278</td>\n",
              "    </tr>\n",
              "    <tr>\n",
              "      <th>2</th>\n",
              "      <td>1.463988</td>\n",
              "      <td>8.483724</td>\n",
              "    </tr>\n",
              "    <tr>\n",
              "      <th>3</th>\n",
              "      <td>1.197317</td>\n",
              "      <td>5.604382</td>\n",
              "    </tr>\n",
              "    <tr>\n",
              "      <th>4</th>\n",
              "      <td>0.312037</td>\n",
              "      <td>4.716440</td>\n",
              "    </tr>\n",
              "  </tbody>\n",
              "</table>\n",
              "</div>\n",
              "    <div class=\"colab-df-buttons\">\n",
              "\n",
              "  <div class=\"colab-df-container\">\n",
              "    <button class=\"colab-df-convert\" onclick=\"convertToInteractive('df-d2285a37-7430-466e-a14e-be835e1cb4d6')\"\n",
              "            title=\"Convert this dataframe to an interactive table.\"\n",
              "            style=\"display:none;\">\n",
              "\n",
              "  <svg xmlns=\"http://www.w3.org/2000/svg\" height=\"24px\" viewBox=\"0 -960 960 960\">\n",
              "    <path d=\"M120-120v-720h720v720H120Zm60-500h600v-160H180v160Zm220 220h160v-160H400v160Zm0 220h160v-160H400v160ZM180-400h160v-160H180v160Zm440 0h160v-160H620v160ZM180-180h160v-160H180v160Zm440 0h160v-160H620v160Z\"/>\n",
              "  </svg>\n",
              "    </button>\n",
              "\n",
              "  <style>\n",
              "    .colab-df-container {\n",
              "      display:flex;\n",
              "      gap: 12px;\n",
              "    }\n",
              "\n",
              "    .colab-df-convert {\n",
              "      background-color: #E8F0FE;\n",
              "      border: none;\n",
              "      border-radius: 50%;\n",
              "      cursor: pointer;\n",
              "      display: none;\n",
              "      fill: #1967D2;\n",
              "      height: 32px;\n",
              "      padding: 0 0 0 0;\n",
              "      width: 32px;\n",
              "    }\n",
              "\n",
              "    .colab-df-convert:hover {\n",
              "      background-color: #E2EBFA;\n",
              "      box-shadow: 0px 1px 2px rgba(60, 64, 67, 0.3), 0px 1px 3px 1px rgba(60, 64, 67, 0.15);\n",
              "      fill: #174EA6;\n",
              "    }\n",
              "\n",
              "    .colab-df-buttons div {\n",
              "      margin-bottom: 4px;\n",
              "    }\n",
              "\n",
              "    [theme=dark] .colab-df-convert {\n",
              "      background-color: #3B4455;\n",
              "      fill: #D2E3FC;\n",
              "    }\n",
              "\n",
              "    [theme=dark] .colab-df-convert:hover {\n",
              "      background-color: #434B5C;\n",
              "      box-shadow: 0px 1px 3px 1px rgba(0, 0, 0, 0.15);\n",
              "      filter: drop-shadow(0px 1px 2px rgba(0, 0, 0, 0.3));\n",
              "      fill: #FFFFFF;\n",
              "    }\n",
              "  </style>\n",
              "\n",
              "    <script>\n",
              "      const buttonEl =\n",
              "        document.querySelector('#df-d2285a37-7430-466e-a14e-be835e1cb4d6 button.colab-df-convert');\n",
              "      buttonEl.style.display =\n",
              "        google.colab.kernel.accessAllowed ? 'block' : 'none';\n",
              "\n",
              "      async function convertToInteractive(key) {\n",
              "        const element = document.querySelector('#df-d2285a37-7430-466e-a14e-be835e1cb4d6');\n",
              "        const dataTable =\n",
              "          await google.colab.kernel.invokeFunction('convertToInteractive',\n",
              "                                                    [key], {});\n",
              "        if (!dataTable) return;\n",
              "\n",
              "        const docLinkHtml = 'Like what you see? Visit the ' +\n",
              "          '<a target=\"_blank\" href=https://colab.research.google.com/notebooks/data_table.ipynb>data table notebook</a>'\n",
              "          + ' to learn more about interactive tables.';\n",
              "        element.innerHTML = '';\n",
              "        dataTable['output_type'] = 'display_data';\n",
              "        await google.colab.output.renderOutput(dataTable, element);\n",
              "        const docLink = document.createElement('div');\n",
              "        docLink.innerHTML = docLinkHtml;\n",
              "        element.appendChild(docLink);\n",
              "      }\n",
              "    </script>\n",
              "  </div>\n",
              "\n",
              "\n",
              "<div id=\"df-96e11a6e-f5e1-47cd-817f-0bbcf48980be\">\n",
              "  <button class=\"colab-df-quickchart\" onclick=\"quickchart('df-96e11a6e-f5e1-47cd-817f-0bbcf48980be')\"\n",
              "            title=\"Suggest charts\"\n",
              "            style=\"display:none;\">\n",
              "\n",
              "<svg xmlns=\"http://www.w3.org/2000/svg\" height=\"24px\"viewBox=\"0 0 24 24\"\n",
              "     width=\"24px\">\n",
              "    <g>\n",
              "        <path d=\"M19 3H5c-1.1 0-2 .9-2 2v14c0 1.1.9 2 2 2h14c1.1 0 2-.9 2-2V5c0-1.1-.9-2-2-2zM9 17H7v-7h2v7zm4 0h-2V7h2v10zm4 0h-2v-4h2v4z\"/>\n",
              "    </g>\n",
              "</svg>\n",
              "  </button>\n",
              "\n",
              "<style>\n",
              "  .colab-df-quickchart {\n",
              "      --bg-color: #E8F0FE;\n",
              "      --fill-color: #1967D2;\n",
              "      --hover-bg-color: #E2EBFA;\n",
              "      --hover-fill-color: #174EA6;\n",
              "      --disabled-fill-color: #AAA;\n",
              "      --disabled-bg-color: #DDD;\n",
              "  }\n",
              "\n",
              "  [theme=dark] .colab-df-quickchart {\n",
              "      --bg-color: #3B4455;\n",
              "      --fill-color: #D2E3FC;\n",
              "      --hover-bg-color: #434B5C;\n",
              "      --hover-fill-color: #FFFFFF;\n",
              "      --disabled-bg-color: #3B4455;\n",
              "      --disabled-fill-color: #666;\n",
              "  }\n",
              "\n",
              "  .colab-df-quickchart {\n",
              "    background-color: var(--bg-color);\n",
              "    border: none;\n",
              "    border-radius: 50%;\n",
              "    cursor: pointer;\n",
              "    display: none;\n",
              "    fill: var(--fill-color);\n",
              "    height: 32px;\n",
              "    padding: 0;\n",
              "    width: 32px;\n",
              "  }\n",
              "\n",
              "  .colab-df-quickchart:hover {\n",
              "    background-color: var(--hover-bg-color);\n",
              "    box-shadow: 0 1px 2px rgba(60, 64, 67, 0.3), 0 1px 3px 1px rgba(60, 64, 67, 0.15);\n",
              "    fill: var(--button-hover-fill-color);\n",
              "  }\n",
              "\n",
              "  .colab-df-quickchart-complete:disabled,\n",
              "  .colab-df-quickchart-complete:disabled:hover {\n",
              "    background-color: var(--disabled-bg-color);\n",
              "    fill: var(--disabled-fill-color);\n",
              "    box-shadow: none;\n",
              "  }\n",
              "\n",
              "  .colab-df-spinner {\n",
              "    border: 2px solid var(--fill-color);\n",
              "    border-color: transparent;\n",
              "    border-bottom-color: var(--fill-color);\n",
              "    animation:\n",
              "      spin 1s steps(1) infinite;\n",
              "  }\n",
              "\n",
              "  @keyframes spin {\n",
              "    0% {\n",
              "      border-color: transparent;\n",
              "      border-bottom-color: var(--fill-color);\n",
              "      border-left-color: var(--fill-color);\n",
              "    }\n",
              "    20% {\n",
              "      border-color: transparent;\n",
              "      border-left-color: var(--fill-color);\n",
              "      border-top-color: var(--fill-color);\n",
              "    }\n",
              "    30% {\n",
              "      border-color: transparent;\n",
              "      border-left-color: var(--fill-color);\n",
              "      border-top-color: var(--fill-color);\n",
              "      border-right-color: var(--fill-color);\n",
              "    }\n",
              "    40% {\n",
              "      border-color: transparent;\n",
              "      border-right-color: var(--fill-color);\n",
              "      border-top-color: var(--fill-color);\n",
              "    }\n",
              "    60% {\n",
              "      border-color: transparent;\n",
              "      border-right-color: var(--fill-color);\n",
              "    }\n",
              "    80% {\n",
              "      border-color: transparent;\n",
              "      border-right-color: var(--fill-color);\n",
              "      border-bottom-color: var(--fill-color);\n",
              "    }\n",
              "    90% {\n",
              "      border-color: transparent;\n",
              "      border-bottom-color: var(--fill-color);\n",
              "    }\n",
              "  }\n",
              "</style>\n",
              "\n",
              "  <script>\n",
              "    async function quickchart(key) {\n",
              "      const quickchartButtonEl =\n",
              "        document.querySelector('#' + key + ' button');\n",
              "      quickchartButtonEl.disabled = true;  // To prevent multiple clicks.\n",
              "      quickchartButtonEl.classList.add('colab-df-spinner');\n",
              "      try {\n",
              "        const charts = await google.colab.kernel.invokeFunction(\n",
              "            'suggestCharts', [key], {});\n",
              "      } catch (error) {\n",
              "        console.error('Error during call to suggestCharts:', error);\n",
              "      }\n",
              "      quickchartButtonEl.classList.remove('colab-df-spinner');\n",
              "      quickchartButtonEl.classList.add('colab-df-quickchart-complete');\n",
              "    }\n",
              "    (() => {\n",
              "      let quickchartButtonEl =\n",
              "        document.querySelector('#df-96e11a6e-f5e1-47cd-817f-0bbcf48980be button');\n",
              "      quickchartButtonEl.style.display =\n",
              "        google.colab.kernel.accessAllowed ? 'block' : 'none';\n",
              "    })();\n",
              "  </script>\n",
              "</div>\n",
              "\n",
              "    </div>\n",
              "  </div>\n"
            ],
            "application/vnd.google.colaboratory.intrinsic+json": {
              "type": "dataframe",
              "variable_name": "df",
              "summary": "{\n  \"name\": \"df\",\n  \"rows\": 100,\n  \"fields\": [\n    {\n      \"column\": \"X\",\n      \"properties\": {\n        \"dtype\": \"number\",\n        \"std\": 0.5949788220306385,\n        \"min\": 0.011044234247204798,\n        \"max\": 1.9737738732010346,\n        \"num_unique_values\": 100,\n        \"samples\": [\n          0.12711670057204727,\n          1.7896547008552977,\n          1.5444895385933148\n        ],\n        \"semantic_type\": \"\",\n        \"description\": \"\"\n      }\n    },\n    {\n      \"column\": \"y\",\n      \"properties\": {\n        \"dtype\": \"number\",\n        \"std\": 1.8791379170629918,\n        \"min\": 3.2380621152873488,\n        \"max\": 11.044395066398318,\n        \"num_unique_values\": 100,\n        \"samples\": [\n          5.037903710349971,\n          8.865488448449694,\n          7.396517904901863\n        ],\n        \"semantic_type\": \"\",\n        \"description\": \"\"\n      }\n    }\n  ]\n}"
            }
          },
          "metadata": {},
          "execution_count": 4
        }
      ]
    },
    {
      "cell_type": "markdown",
      "source": [
        "## Visualizzazione e analisi\n",
        "Visualizzazione e Analisi dei dati per capire meglio la loro distribuzione e relazione.\n",
        "Creo un grafico a dispersione (`scatter plot`) per visualizzare la relazione tra X (asse x) e y (asse y).\n",
        "La distribuzione dei punti mostra una chiara relazione lineare con un po' di dispersione dovuta al rumore aggiunto."
      ],
      "metadata": {
        "id": "ocGUfB6HBeof"
      }
    },
    {
      "cell_type": "code",
      "source": [
        "# Visualizziamo i dati con un grafico a dispersione\n",
        "plt.figure(figsize=(8, 5))\n",
        "plt.scatter(df[\"X\"], df[\"y\"], color=\"blue\", alpha=0.6, label=\"Dati\")\n",
        "plt.xlabel(\"Variabile indipendente (X)\")\n",
        "plt.ylabel(\"Variabile dipendente (y)\")\n",
        "plt.title(\"Distribuzione dei dati\")\n",
        "plt.legend()\n",
        "plt.show()\n"
      ],
      "metadata": {
        "colab": {
          "base_uri": "https://localhost:8080/",
          "height": 487
        },
        "id": "ovIf_fx_BoCz",
        "outputId": "de497115-b2b7-41c1-a6ad-d9bc7b36b86f"
      },
      "execution_count": 5,
      "outputs": [
        {
          "output_type": "display_data",
          "data": {
            "text/plain": [
              "<Figure size 800x500 with 1 Axes>"
            ],
            "image/png": "[encoded data removed]"
          },
          "metadata": {}
        }
      ]
    },
    {
      "cell_type": "markdown",
      "source": [
        "## Suddivisione dei dati in training e test\n",
        "Per addestrare il modello in modo efficace dobbiamo suddividere il dataset in:\n",
        "* Training set (80%): usato per addestrare il modello.\n",
        "* Test set (20%): usato per valutare le prestazioni del modello su dati nuovi."
      ],
      "metadata": {
        "id": "I1IKZ1mHB3iH"
      }
    },
    {
      "cell_type": "code",
      "source": [
        "# Dividiamo i dati in training set (80%) e test set (20%)\n",
        "\n",
        "X_train, X_test, y_train, y_test = train_test_split(df[[\"X\"]], df[[\"y\"]], test_size=0.2, random_state=42)\n",
        "\n",
        "# Verifichiamo la dimensione dei dataset\n",
        "print(f\"Training set: {X_train.shape[0]} campioni\")\n",
        "print(f\"Test set: {X_test.shape[0]} campioni\")"
      ],
      "metadata": {
        "colab": {
          "base_uri": "https://localhost:8080/"
        },
        "id": "uXQTgfYCC8Fz",
        "outputId": "944fa67a-92a6-4c60-c44a-bc84402be09c"
      },
      "execution_count": 13,
      "outputs": [
        {
          "output_type": "stream",
          "name": "stdout",
          "text": [
            "Training set: 80 campioni\n",
            "Test set: 20 campioni\n"
          ]
        }
      ]
    },
    {
      "cell_type": "markdown",
      "source": [
        "## Addestramento del modello di regressione lineare\n",
        "Possiamo addestrare il modello di `Regression Lineare` usando il dataset di training."
      ],
      "metadata": {
        "id": "SZ2hfkTYDa4b"
      }
    },
    {
      "cell_type": "code",
      "source": [
        "# Creiamo il modello di regressione lineare\n",
        "modello = LinearRegression()\n",
        "\n",
        "# Addestriamo il modello sui dati di training\n",
        "modello.fit(X_train, y_train)\n",
        "\n",
        "# Stampiamo i coefficienti della retta di regressione\n",
        "print(f\"Intercetta (b0): {modello.intercept_}\")\n",
        "print(f\"Coefficiente (b1): {modello.coef_[0]}\")"
      ],
      "metadata": {
        "colab": {
          "base_uri": "https://localhost:8080/"
        },
        "id": "uPErTKG1Dghs",
        "outputId": "eb76360f-fa4d-4aa2-f06a-75f1bb6e90e6"
      },
      "execution_count": 14,
      "outputs": [
        {
          "output_type": "stream",
          "name": "stdout",
          "text": [
            "Intercetta (b0): [4.14291332]\n",
            "Coefficiente (b1): [2.79932366]\n"
          ]
        }
      ]
    },
    {
      "cell_type": "markdown",
      "source": [
        "Come risultato abbiamo stampato i coefficienti della retta:\n",
        "* Intercetta (b0): valore di y quando X = 0.\n",
        "* Coefficiente (b1): pendenza della retta (indica come u cambia quando X aumenta di 1)."
      ],
      "metadata": {
        "id": "l-NzpcEREXn3"
      }
    },
    {
      "cell_type": "markdown",
      "source": [
        "## Valutazione delle prestazioni del modello\n",
        "Per valutare quanto bene il modello ha imparato, useremo due metrice:\n",
        "* **Errore quadratico medio (mse)**: misura la diffrenza media tra i valori predetti e quelli reali.\n",
        "* **R^2 (coefficient of determination)**: misura quanto bene il modello spiega la variabilità dei dati.\n",
        "Un valore di R^2 vicino a 1 indica un modello molto buono.\n",
        "\n",
        "`modello.predict()`: utilizza il modello per fare delle previsioni sui dati di test\n"
      ],
      "metadata": {
        "id": "BQhKoLrMEtSR"
      }
    },
    {
      "cell_type": "markdown",
      "source": [
        "Interpretazione delle metriche:\n",
        "* **MSE**:\n",
        "  * Se uguale a 0 il modello è perfetto (mai possibile in pratica).\n",
        "  * Più basso è l'MSE e meglio è, più alto e peggio è.\n",
        "\n",
        "\n",
        "Come capire se il nostro MSE è buono?\n",
        "Dipende dall' unità di misura dei dati.\n",
        "  * Se stiamo prevedendo prezzi delle case in centinaia di migliaia di dollari, un MSE = 0.5 potrebbe essere ottimo.\n",
        "  * Se stiamo prevedendo temperatura in gradi, un MSE = 0.5 potrebbe essere alto.\n",
        "\n",
        "* **R^2**:\n",
        "  * Se uguale a 1 allora il modello spiega il 100% della variabilità (perfetto, ma quasi impossibile).\n",
        "  * Se uguale a 0 il modello non spiega nulla, fa previsioni come prendere la media dei dati.\n",
        "  * Se minore di 0 il modello è peggiore del caso in cui si usa semplicemente la media dei dati (molto male).\n",
        "  Più vicino a 1, meglio è, significa che il modello spiega bene la relazione tra le variabili."
      ],
      "metadata": {
        "id": "IAHoFPaKdBuZ"
      }
    },
    {
      "cell_type": "code",
      "source": [
        "# Prediciamo i valori di y per i dati di test\n",
        "y_pred = modello.predict(X_test)\n",
        "\n",
        "# Calcoliamo l'errore quadratico medio (MSE)\n",
        "mse = mean_squared_error(y_test, y_pred)\n",
        "print(f\"Errore quadratico medio (MSE): {mse}\")\n",
        "\n",
        "# Calcoliamo il coefficiente di determinazione R^2\n",
        "r2 = r2_score(y_test, y_pred)\n",
        "print(f\"R^2: {r2}\")"
      ],
      "metadata": {
        "colab": {
          "base_uri": "https://localhost:8080/"
        },
        "id": "QwQ-ZcSfFTIL",
        "outputId": "3ef2ac38-4b25-4799-9a0b-3bd78e9cf676"
      },
      "execution_count": 15,
      "outputs": [
        {
          "output_type": "stream",
          "name": "stdout",
          "text": [
            "Errore quadratico medio (MSE): 0.6536995137170021\n",
            "R^2: 0.8072059636181392\n"
          ]
        }
      ]
    },
    {
      "cell_type": "markdown",
      "source": [
        "## Visualizzazione dei risultati\n",
        "Visualizzo i risultati per vedere come le previsioni del modello si confrontano con i dati reali.\n",
        "Creo un grafico che mostra i punti reali e la retta di regressione lineare.\n",
        "\n",
        "`plt.scatter(X_test, y_test)`: visualizza i dati reali come punti blu.\n",
        "\n",
        "\n",
        "`plt.plot(X_test, y_pred)`: traccia la retta di regressione (previsioni del modello) come una linea rossa.\n",
        "\n",
        "\n",
        "`plt.legend()`: aggiunge la leggenda al grafico."
      ],
      "metadata": {
        "id": "1hhh-QE4Hqk1"
      }
    },
    {
      "cell_type": "code",
      "source": [
        "# Creo il grafico con i dati reali e la retta di regressione\n",
        "plt.figure(figsize=(8, 5))\n",
        "\n",
        "# Dati reali\n",
        "plt.scatter(X_test, y_test, color=\"blue\", alpha=0.6, label=\"Dati reali\")\n",
        "\n",
        "# Predizioni del modello\n",
        "plt.plot(X_test, y_pred, color=\"red\", linewidth=2, label=\"Retta di regressione\")\n",
        "\n",
        "# Etichette e titolo\n",
        "plt.xlabel(\"Variabile indipendente (X)\")\n",
        "plt.ylabel(\"Variabile dipendente (y)\")\n",
        "plt.title(\"Confronto tra Dati Reali e Previsioni\")\n",
        "plt.legend()\n",
        "\n",
        "# Mostriamo il grafico\n",
        "plt.show()"
      ],
      "metadata": {
        "colab": {
          "base_uri": "https://localhost:8080/",
          "height": 487
        },
        "id": "K0hB4TwcH41P",
        "outputId": "71cf25b4-10b0-4e2c-f685-19a7c0711a41"
      },
      "execution_count": 16,
      "outputs": [
        {
          "output_type": "display_data",
          "data": {
            "text/plain": [
              "<Figure size 800x500 with 1 Axes>"
            ],
            "image/png": "[encoded data removed]"
          },
          "metadata": {}
        }
      ]
    },
    {
      "cell_type": "markdown",
      "source": [
        "# Regressione Lineare applicata ad un contesto reale.\n",
        "Il dataset utilizzato è quello delle case della California, contiene informazioni sul valore mediano delle abitazioni in base a vari fattori come il numero di stanze, la posizione geografica e altro ancora."
      ],
      "metadata": {
        "id": "TYgtFxpYI6S5"
      }
    },
    {
      "cell_type": "markdown",
      "source": [
        "## Caricamente del dataset\n",
        "Il caricamente del dataset avviene direttamente dalla libreria `sklearn`."
      ],
      "metadata": {
        "id": "D5_RqQ6mJX3j"
      }
    },
    {
      "cell_type": "code",
      "source": [
        "from sklearn.datasets import fetch_california_housing\n",
        "\n",
        "# Carichiamo il dataset delle case di California\n",
        "california = fetch_california_housing()\n",
        "\n",
        "# Creiamo un DataFrame con le feature e il target\n",
        "df_california = pd.DataFrame(california.data, columns=california.feature_names)\n",
        "df_california['MEDV'] = california.target  # MEDV: valore medio delle case\n",
        "\n",
        "# Visualizziamo le prime righe del dataset\n",
        "df_california.head()"
      ],
      "metadata": {
        "colab": {
          "base_uri": "https://localhost:8080/",
          "height": 206
        },
        "id": "pvEHaG5BJkQM",
        "outputId": "4ec1020f-c958-43c7-d49b-f447ec8b6c4b"
      },
      "execution_count": 20,
      "outputs": [
        {
          "output_type": "execute_result",
          "data": {
            "text/plain": [
              "   MedInc  HouseAge  AveRooms  AveBedrms  Population  AveOccup  Latitude  \\\n",
              "0  8.3252      41.0  6.984127   1.023810       322.0  2.555556     37.88   \n",
              "1  8.3014      21.0  6.238137   0.971880      2401.0  2.109842     37.86   \n",
              "2  7.2574      52.0  8.288136   1.073446       496.0  2.802260     37.85   \n",
              "3  5.6431      52.0  5.817352   1.073059       558.0  2.547945     37.85   \n",
              "4  3.8462      52.0  6.281853   1.081081       565.0  2.181467     37.85   \n",
              "\n",
              "   Longitude   MEDV  \n",
              "0    -122.23  4.526  \n",
              "1    -122.22  3.585  \n",
              "2    -122.24  3.521  \n",
              "3    -122.25  3.413  \n",
              "4    -122.25  3.422  "
            ],
            "text/html": [
              "\n",
              "  <div id=\"df-5aafaa84-1a4b-4f68-985c-1fa8fc4fac95\" class=\"colab-df-container\">\n",
              "    <div>\n",
              "<style scoped>\n",
              "    .dataframe tbody tr th:only-of-type {\n",
              "        vertical-align: middle;\n",
              "    }\n",
              "\n",
              "    .dataframe tbody tr th {\n",
              "        vertical-align: top;\n",
              "    }\n",
              "\n",
              "    .dataframe thead th {\n",
              "        text-align: right;\n",
              "    }\n",
              "</style>\n",
              "<table border=\"1\" class=\"dataframe\">\n",
              "  <thead>\n",
              "    <tr style=\"text-align: right;\">\n",
              "      <th></th>\n",
              "      <th>MedInc</th>\n",
              "      <th>HouseAge</th>\n",
              "      <th>AveRooms</th>\n",
              "      <th>AveBedrms</th>\n",
              "      <th>Population</th>\n",
              "      <th>AveOccup</th>\n",
              "      <th>Latitude</th>\n",
              "      <th>Longitude</th>\n",
              "      <th>MEDV</th>\n",
              "    </tr>\n",
              "  </thead>\n",
              "  <tbody>\n",
              "    <tr>\n",
              "      <th>0</th>\n",
              "      <td>8.3252</td>\n",
              "      <td>41.0</td>\n",
              "      <td>6.984127</td>\n",
              "      <td>1.023810</td>\n",
              "      <td>322.0</td>\n",
              "      <td>2.555556</td>\n",
              "      <td>37.88</td>\n",
              "      <td>-122.23</td>\n",
              "      <td>4.526</td>\n",
              "    </tr>\n",
              "    <tr>\n",
              "      <th>1</th>\n",
              "      <td>8.3014</td>\n",
              "      <td>21.0</td>\n",
              "      <td>6.238137</td>\n",
              "      <td>0.971880</td>\n",
              "      <td>2401.0</td>\n",
              "      <td>2.109842</td>\n",
              "      <td>37.86</td>\n",
              "      <td>-122.22</td>\n",
              "      <td>3.585</td>\n",
              "    </tr>\n",
              "    <tr>\n",
              "      <th>2</th>\n",
              "      <td>7.2574</td>\n",
              "      <td>52.0</td>\n",
              "      <td>8.288136</td>\n",
              "      <td>1.073446</td>\n",
              "      <td>496.0</td>\n",
              "      <td>2.802260</td>\n",
              "      <td>37.85</td>\n",
              "      <td>-122.24</td>\n",
              "      <td>3.521</td>\n",
              "    </tr>\n",
              "    <tr>\n",
              "      <th>3</th>\n",
              "      <td>5.6431</td>\n",
              "      <td>52.0</td>\n",
              "      <td>5.817352</td>\n",
              "      <td>1.073059</td>\n",
              "      <td>558.0</td>\n",
              "      <td>2.547945</td>\n",
              "      <td>37.85</td>\n",
              "      <td>-122.25</td>\n",
              "      <td>3.413</td>\n",
              "    </tr>\n",
              "    <tr>\n",
              "      <th>4</th>\n",
              "      <td>3.8462</td>\n",
              "      <td>52.0</td>\n",
              "      <td>6.281853</td>\n",
              "      <td>1.081081</td>\n",
              "      <td>565.0</td>\n",
              "      <td>2.181467</td>\n",
              "      <td>37.85</td>\n",
              "      <td>-122.25</td>\n",
              "      <td>3.422</td>\n",
              "    </tr>\n",
              "  </tbody>\n",
              "</table>\n",
              "</div>\n",
              "    <div class=\"colab-df-buttons\">\n",
              "\n",
              "  <div class=\"colab-df-container\">\n",
              "    <button class=\"colab-df-convert\" onclick=\"convertToInteractive('df-5aafaa84-1a4b-4f68-985c-1fa8fc4fac95')\"\n",
              "            title=\"Convert this dataframe to an interactive table.\"\n",
              "            style=\"display:none;\">\n",
              "\n",
              "  <svg xmlns=\"http://www.w3.org/2000/svg\" height=\"24px\" viewBox=\"0 -960 960 960\">\n",
              "    <path d=\"M120-120v-720h720v720H120Zm60-500h600v-160H180v160Zm220 220h160v-160H400v160Zm0 220h160v-160H400v160ZM180-400h160v-160H180v160Zm440 0h160v-160H620v160ZM180-180h160v-160H180v160Zm440 0h160v-160H620v160Z\"/>\n",
              "  </svg>\n",
              "    </button>\n",
              "\n",
              "  <style>\n",
              "    .colab-df-container {\n",
              "      display:flex;\n",
              "      gap: 12px;\n",
              "    }\n",
              "\n",
              "    .colab-df-convert {\n",
              "      background-color: #E8F0FE;\n",
              "      border: none;\n",
              "      border-radius: 50%;\n",
              "      cursor: pointer;\n",
              "      display: none;\n",
              "      fill: #1967D2;\n",
              "      height: 32px;\n",
              "      padding: 0 0 0 0;\n",
              "      width: 32px;\n",
              "    }\n",
              "\n",
              "    .colab-df-convert:hover {\n",
              "      background-color: #E2EBFA;\n",
              "      box-shadow: 0px 1px 2px rgba(60, 64, 67, 0.3), 0px 1px 3px 1px rgba(60, 64, 67, 0.15);\n",
              "      fill: #174EA6;\n",
              "    }\n",
              "\n",
              "    .colab-df-buttons div {\n",
              "      margin-bottom: 4px;\n",
              "    }\n",
              "\n",
              "    [theme=dark] .colab-df-convert {\n",
              "      background-color: #3B4455;\n",
              "      fill: #D2E3FC;\n",
              "    }\n",
              "\n",
              "    [theme=dark] .colab-df-convert:hover {\n",
              "      background-color: #434B5C;\n",
              "      box-shadow: 0px 1px 3px 1px rgba(0, 0, 0, 0.15);\n",
              "      filter: drop-shadow(0px 1px 2px rgba(0, 0, 0, 0.3));\n",
              "      fill: #FFFFFF;\n",
              "    }\n",
              "  </style>\n",
              "\n",
              "    <script>\n",
              "      const buttonEl =\n",
              "        document.querySelector('#df-5aafaa84-1a4b-4f68-985c-1fa8fc4fac95 button.colab-df-convert');\n",
              "      buttonEl.style.display =\n",
              "        google.colab.kernel.accessAllowed ? 'block' : 'none';\n",
              "\n",
              "      async function convertToInteractive(key) {\n",
              "        const element = document.querySelector('#df-5aafaa84-1a4b-4f68-985c-1fa8fc4fac95');\n",
              "        const dataTable =\n",
              "          await google.colab.kernel.invokeFunction('convertToInteractive',\n",
              "                                                    [key], {});\n",
              "        if (!dataTable) return;\n",
              "\n",
              "        const docLinkHtml = 'Like what you see? Visit the ' +\n",
              "          '<a target=\"_blank\" href=https://colab.research.google.com/notebooks/data_table.ipynb>data table notebook</a>'\n",
              "          + ' to learn more about interactive tables.';\n",
              "        element.innerHTML = '';\n",
              "        dataTable['output_type'] = 'display_data';\n",
              "        await google.colab.output.renderOutput(dataTable, element);\n",
              "        const docLink = document.createElement('div');\n",
              "        docLink.innerHTML = docLinkHtml;\n",
              "        element.appendChild(docLink);\n",
              "      }\n",
              "    </script>\n",
              "  </div>\n",
              "\n",
              "\n",
              "<div id=\"df-aebdb03c-2ca3-45d5-975c-fdc3f852b351\">\n",
              "  <button class=\"colab-df-quickchart\" onclick=\"quickchart('df-aebdb03c-2ca3-45d5-975c-fdc3f852b351')\"\n",
              "            title=\"Suggest charts\"\n",
              "            style=\"display:none;\">\n",
              "\n",
              "<svg xmlns=\"http://www.w3.org/2000/svg\" height=\"24px\"viewBox=\"0 0 24 24\"\n",
              "     width=\"24px\">\n",
              "    <g>\n",
              "        <path d=\"M19 3H5c-1.1 0-2 .9-2 2v14c0 1.1.9 2 2 2h14c1.1 0 2-.9 2-2V5c0-1.1-.9-2-2-2zM9 17H7v-7h2v7zm4 0h-2V7h2v10zm4 0h-2v-4h2v4z\"/>\n",
              "    </g>\n",
              "</svg>\n",
              "  </button>\n",
              "\n",
              "<style>\n",
              "  .colab-df-quickchart {\n",
              "      --bg-color: #E8F0FE;\n",
              "      --fill-color: #1967D2;\n",
              "      --hover-bg-color: #E2EBFA;\n",
              "      --hover-fill-color: #174EA6;\n",
              "      --disabled-fill-color: #AAA;\n",
              "      --disabled-bg-color: #DDD;\n",
              "  }\n",
              "\n",
              "  [theme=dark] .colab-df-quickchart {\n",
              "      --bg-color: #3B4455;\n",
              "      --fill-color: #D2E3FC;\n",
              "      --hover-bg-color: #434B5C;\n",
              "      --hover-fill-color: #FFFFFF;\n",
              "      --disabled-bg-color: #3B4455;\n",
              "      --disabled-fill-color: #666;\n",
              "  }\n",
              "\n",
              "  .colab-df-quickchart {\n",
              "    background-color: var(--bg-color);\n",
              "    border: none;\n",
              "    border-radius: 50%;\n",
              "    cursor: pointer;\n",
              "    display: none;\n",
              "    fill: var(--fill-color);\n",
              "    height: 32px;\n",
              "    padding: 0;\n",
              "    width: 32px;\n",
              "  }\n",
              "\n",
              "  .colab-df-quickchart:hover {\n",
              "    background-color: var(--hover-bg-color);\n",
              "    box-shadow: 0 1px 2px rgba(60, 64, 67, 0.3), 0 1px 3px 1px rgba(60, 64, 67, 0.15);\n",
              "    fill: var(--button-hover-fill-color);\n",
              "  }\n",
              "\n",
              "  .colab-df-quickchart-complete:disabled,\n",
              "  .colab-df-quickchart-complete:disabled:hover {\n",
              "    background-color: var(--disabled-bg-color);\n",
              "    fill: var(--disabled-fill-color);\n",
              "    box-shadow: none;\n",
              "  }\n",
              "\n",
              "  .colab-df-spinner {\n",
              "    border: 2px solid var(--fill-color);\n",
              "    border-color: transparent;\n",
              "    border-bottom-color: var(--fill-color);\n",
              "    animation:\n",
              "      spin 1s steps(1) infinite;\n",
              "  }\n",
              "\n",
              "  @keyframes spin {\n",
              "    0% {\n",
              "      border-color: transparent;\n",
              "      border-bottom-color: var(--fill-color);\n",
              "      border-left-color: var(--fill-color);\n",
              "    }\n",
              "    20% {\n",
              "      border-color: transparent;\n",
              "      border-left-color: var(--fill-color);\n",
              "      border-top-color: var(--fill-color);\n",
              "    }\n",
              "    30% {\n",
              "      border-color: transparent;\n",
              "      border-left-color: var(--fill-color);\n",
              "      border-top-color: var(--fill-color);\n",
              "      border-right-color: var(--fill-color);\n",
              "    }\n",
              "    40% {\n",
              "      border-color: transparent;\n",
              "      border-right-color: var(--fill-color);\n",
              "      border-top-color: var(--fill-color);\n",
              "    }\n",
              "    60% {\n",
              "      border-color: transparent;\n",
              "      border-right-color: var(--fill-color);\n",
              "    }\n",
              "    80% {\n",
              "      border-color: transparent;\n",
              "      border-right-color: var(--fill-color);\n",
              "      border-bottom-color: var(--fill-color);\n",
              "    }\n",
              "    90% {\n",
              "      border-color: transparent;\n",
              "      border-bottom-color: var(--fill-color);\n",
              "    }\n",
              "  }\n",
              "</style>\n",
              "\n",
              "  <script>\n",
              "    async function quickchart(key) {\n",
              "      const quickchartButtonEl =\n",
              "        document.querySelector('#' + key + ' button');\n",
              "      quickchartButtonEl.disabled = true;  // To prevent multiple clicks.\n",
              "      quickchartButtonEl.classList.add('colab-df-spinner');\n",
              "      try {\n",
              "        const charts = await google.colab.kernel.invokeFunction(\n",
              "            'suggestCharts', [key], {});\n",
              "      } catch (error) {\n",
              "        console.error('Error during call to suggestCharts:', error);\n",
              "      }\n",
              "      quickchartButtonEl.classList.remove('colab-df-spinner');\n",
              "      quickchartButtonEl.classList.add('colab-df-quickchart-complete');\n",
              "    }\n",
              "    (() => {\n",
              "      let quickchartButtonEl =\n",
              "        document.querySelector('#df-aebdb03c-2ca3-45d5-975c-fdc3f852b351 button');\n",
              "      quickchartButtonEl.style.display =\n",
              "        google.colab.kernel.accessAllowed ? 'block' : 'none';\n",
              "    })();\n",
              "  </script>\n",
              "</div>\n",
              "\n",
              "    </div>\n",
              "  </div>\n"
            ],
            "application/vnd.google.colaboratory.intrinsic+json": {
              "type": "dataframe",
              "variable_name": "df_california",
              "summary": "{\n  \"name\": \"df_california\",\n  \"rows\": 20640,\n  \"fields\": [\n    {\n      \"column\": \"MedInc\",\n      \"properties\": {\n        \"dtype\": \"number\",\n        \"std\": 1.8998217179452732,\n        \"min\": 0.4999,\n        \"max\": 15.0001,\n        \"num_unique_values\": 12928,\n        \"samples\": [\n          5.0286,\n          2.0433,\n          6.1228\n        ],\n        \"semantic_type\": \"\",\n        \"description\": \"\"\n      }\n    },\n    {\n      \"column\": \"HouseAge\",\n      \"properties\": {\n        \"dtype\": \"number\",\n        \"std\": 12.585557612111637,\n        \"min\": 1.0,\n        \"max\": 52.0,\n        \"num_unique_values\": 52,\n        \"samples\": [\n          35.0,\n          25.0,\n          7.0\n        ],\n        \"semantic_type\": \"\",\n        \"description\": \"\"\n      }\n    },\n    {\n      \"column\": \"AveRooms\",\n      \"properties\": {\n        \"dtype\": \"number\",\n        \"std\": 2.4741731394243205,\n        \"min\": 0.8461538461538461,\n        \"max\": 141.9090909090909,\n        \"num_unique_values\": 19392,\n        \"samples\": [\n          6.111269614835948,\n          5.912820512820513,\n          5.7924528301886795\n        ],\n        \"semantic_type\": \"\",\n        \"description\": \"\"\n      }\n    },\n    {\n      \"column\": \"AveBedrms\",\n      \"properties\": {\n        \"dtype\": \"number\",\n        \"std\": 0.47391085679546435,\n        \"min\": 0.3333333333333333,\n        \"max\": 34.06666666666667,\n        \"num_unique_values\": 14233,\n        \"samples\": [\n          0.9906542056074766,\n          1.112099644128114,\n          1.0398230088495575\n        ],\n        \"semantic_type\": \"\",\n        \"description\": \"\"\n      }\n    },\n    {\n      \"column\": \"Population\",\n      \"properties\": {\n        \"dtype\": \"number\",\n        \"std\": 1132.4621217653375,\n        \"min\": 3.0,\n        \"max\": 35682.0,\n        \"num_unique_values\": 3888,\n        \"samples\": [\n          4169.0,\n          636.0,\n          3367.0\n        ],\n        \"semantic_type\": \"\",\n        \"description\": \"\"\n      }\n    },\n    {\n      \"column\": \"AveOccup\",\n      \"properties\": {\n        \"dtype\": \"number\",\n        \"std\": 10.386049562213591,\n        \"min\": 0.6923076923076923,\n        \"max\": 1243.3333333333333,\n        \"num_unique_values\": 18841,\n        \"samples\": [\n          2.6939799331103678,\n          3.559375,\n          3.297082228116711\n        ],\n        \"semantic_type\": \"\",\n        \"description\": \"\"\n      }\n    },\n    {\n      \"column\": \"Latitude\",\n      \"properties\": {\n        \"dtype\": \"number\",\n        \"std\": 2.1359523974571117,\n        \"min\": 32.54,\n        \"max\": 41.95,\n        \"num_unique_values\": 862,\n        \"samples\": [\n          33.7,\n          34.41,\n          38.24\n        ],\n        \"semantic_type\": \"\",\n        \"description\": \"\"\n      }\n    },\n    {\n      \"column\": \"Longitude\",\n      \"properties\": {\n        \"dtype\": \"number\",\n        \"std\": 2.003531723502581,\n        \"min\": -124.35,\n        \"max\": -114.31,\n        \"num_unique_values\": 844,\n        \"samples\": [\n          -118.63,\n          -119.86,\n          -121.26\n        ],\n        \"semantic_type\": \"\",\n        \"description\": \"\"\n      }\n    },\n    {\n      \"column\": \"MEDV\",\n      \"properties\": {\n        \"dtype\": \"number\",\n        \"std\": 1.1539561587441483,\n        \"min\": 0.14999,\n        \"max\": 5.00001,\n        \"num_unique_values\": 3842,\n        \"samples\": [\n          1.943,\n          3.79,\n          2.301\n        ],\n        \"semantic_type\": \"\",\n        \"description\": \"\"\n      }\n    }\n  ]\n}"
            }
          },
          "metadata": {},
          "execution_count": 20
        }
      ]
    },
    {
      "cell_type": "markdown",
      "source": [
        "## Preprocessamento e esplorazione dei dati\n",
        "È sempre utile esplorare i dati per comprendere meglio le variabili, identificare eventuali valori mancanti e ottenere un'idea di come sono distribuiti."
      ],
      "metadata": {
        "id": "pDNv_YU-QS7H"
      }
    },
    {
      "cell_type": "code",
      "source": [
        "# Esploro i dati\n",
        "print(\"Statistiche descrittive del dataset:\")\n",
        "print(df_california.describe())  # Statistiche descrittive\n",
        "\n",
        "print(\"\\nControllo se ci sono valori nulli:\")\n",
        "print(df_california.isnull().sum())"
      ],
      "metadata": {
        "colab": {
          "base_uri": "https://localhost:8080/"
        },
        "id": "uZ0sATJDQg03",
        "outputId": "7ca36bc5-0db8-45e4-88e9-2e4b54067a15"
      },
      "execution_count": 22,
      "outputs": [
        {
          "output_type": "stream",
          "name": "stdout",
          "text": [
            "Statistiche descrittive del dataset:\n",
            "             MedInc      HouseAge      AveRooms     AveBedrms    Population  \\\n",
            "count  20640.000000  20640.000000  20640.000000  20640.000000  20640.000000   \n",
            "mean       3.870671     28.639486      5.429000      1.096675   1425.476744   \n",
            "std        1.899822     12.585558      2.474173      0.473911   1132.462122   \n",
            "min        0.499900      1.000000      0.846154      0.333333      3.000000   \n",
            "25%        2.563400     18.000000      4.440716      1.006079    787.000000   \n",
            "50%        3.534800     29.000000      5.229129      1.048780   1166.000000   \n",
            "75%        4.743250     37.000000      6.052381      1.099526   1725.000000   \n",
            "max       15.000100     52.000000    141.909091     34.066667  35682.000000   \n",
            "\n",
            "           AveOccup      Latitude     Longitude          MEDV  \n",
            "count  20640.000000  20640.000000  20640.000000  20640.000000  \n",
            "mean       3.070655     35.631861   -119.569704      2.068558  \n",
            "std       10.386050      2.135952      2.003532      1.153956  \n",
            "min        0.692308     32.540000   -124.350000      0.149990  \n",
            "25%        2.429741     33.930000   -121.800000      1.196000  \n",
            "50%        2.818116     34.260000   -118.490000      1.797000  \n",
            "75%        3.282261     37.710000   -118.010000      2.647250  \n",
            "max     1243.333333     41.950000   -114.310000      5.000010  \n",
            "\n",
            "Controllo se ci sono valori nulli:\n",
            "MedInc        0\n",
            "HouseAge      0\n",
            "AveRooms      0\n",
            "AveBedrms     0\n",
            "Population    0\n",
            "AveOccup      0\n",
            "Latitude      0\n",
            "Longitude     0\n",
            "MEDV          0\n",
            "dtype: int64\n"
          ]
        }
      ]
    },
    {
      "cell_type": "markdown",
      "source": [
        "## Suddivisione dei dati in training e test.\n",
        "training set 80%, test set 20%"
      ],
      "metadata": {
        "id": "e6wFvYh-Q1sA"
      }
    },
    {
      "cell_type": "code",
      "source": [
        "# Le features sono tutte le colonne tranne il target 'MEDV'\n",
        "X = df_california.drop(columns=['MEDV'])\n",
        "# Il target è il valore mediano delle case\n",
        "y = df_california['MEDV']\n",
        "\n",
        "#Utilizzo la funzione train_test_split per la suddivisione\n",
        "X_train, X_test, y_train, y_test = train_test_split(X, y, test_size=0.2, random_state=42)\n",
        "\n",
        "# Verifica le dimensioni dei dataset\n",
        "print(f\"Training set: {X_train.shape[0]} campioni\")\n",
        "print(f\"Test set: {X_test.shape[0]} campioni\")"
      ],
      "metadata": {
        "colab": {
          "base_uri": "https://localhost:8080/"
        },
        "id": "TCIDiFLMQ7hs",
        "outputId": "3410039a-572c-4eb8-a3ee-f7a15d2153af"
      },
      "execution_count": 23,
      "outputs": [
        {
          "output_type": "stream",
          "name": "stdout",
          "text": [
            "Training set: 16512 campioni\n",
            "Test set: 4128 campioni\n"
          ]
        }
      ]
    },
    {
      "cell_type": "markdown",
      "source": [
        "## Addestramento modello\n",
        "Con l'addestramento del modello troviamo:\n",
        "* **Intercetta**: valore di y quando tutte le variabili indipendenti sono 0.\n",
        "* **Coefficienti**: per ogni veriabile indipendente (indicano quanto ogni feature influisce sul prezzo delle case)."
      ],
      "metadata": {
        "id": "m1JOub9GWb_i"
      }
    },
    {
      "cell_type": "code",
      "source": [
        "# Creiamo il modello di regressione lineare\n",
        "modello = LinearRegression()\n",
        "\n",
        "# Addestriamo il modello sui dati di training\n",
        "modello.fit(X_train, y_train)\n",
        "\n",
        "# Stampiamo i coefficienti della retta di regressione\n",
        "print(f\"Intercetta (b0): {modello.intercept_}\")\n",
        "print(f\"Coefficiente (b1, b1,..): {modello.coef_}\")"
      ],
      "metadata": {
        "colab": {
          "base_uri": "https://localhost:8080/"
        },
        "id": "-xRRFWnMWeic",
        "outputId": "ceeb4325-b232-4e2f-a244-2ed39cdd4dc4"
      },
      "execution_count": 28,
      "outputs": [
        {
          "output_type": "stream",
          "name": "stdout",
          "text": [
            "Intercetta (b0): -37.02327770606409\n",
            "Coefficiente (b1, b1,..): [ 4.48674910e-01  9.72425752e-03 -1.23323343e-01  7.83144907e-01\n",
            " -2.02962058e-06 -3.52631849e-03 -4.19792487e-01 -4.33708065e-01]\n"
          ]
        }
      ]
    },
    {
      "cell_type": "markdown",
      "source": [
        "## Valutazione del modello"
      ],
      "metadata": {
        "id": "LaCxQLVTXT-1"
      }
    },
    {
      "cell_type": "code",
      "source": [
        "# Facciamo le previsioni sui dati di test\n",
        "y_pred = modello.predict(X_test)\n",
        "\n",
        "# Calcoliamo l'Errore Quadratico Medio (MSE)\n",
        "mse = mean_squared_error(y_test, y_pred)\n",
        "print(f\"Errore Quadratico Medio (MSE): {mse}\")\n",
        "\n",
        "# Calcoliamo il coefficiente di determinazione R²\n",
        "r2 = r2_score(y_test, y_pred)\n",
        "print(f\"R²: {r2}\")"
      ],
      "metadata": {
        "colab": {
          "base_uri": "https://localhost:8080/"
        },
        "id": "FAzbwdaIWoon",
        "outputId": "f69163c8-9976-4830-f425-2bf8b74d4709"
      },
      "execution_count": 29,
      "outputs": [
        {
          "output_type": "stream",
          "name": "stdout",
          "text": [
            "Errore Quadratico Medio (MSE): 0.5558915986952444\n",
            "R²: 0.5757877060324508\n"
          ]
        }
      ]
    },
    {
      "cell_type": "code",
      "source": [
        "plt.figure(figsize=(8, 5))\n",
        "\n",
        "# Scatter plot: Valori reali vs Predetti\n",
        "plt.scatter(y_test, y_pred, color=\"blue\", alpha=0.5)\n",
        "plt.plot([y_test.min(), y_test.max()], [y_test.min(), y_test.max()], color=\"red\", linewidth=2)\n",
        "\n",
        "# Etichette\n",
        "plt.xlabel(\"Valori Reali\")\n",
        "plt.ylabel(\"Valori Predetti\")\n",
        "plt.title(\"Confronto tra Valori Reali e Predetti\")\n",
        "\n",
        "plt.show()"
      ],
      "metadata": {
        "colab": {
          "base_uri": "https://localhost:8080/",
          "height": 487
        },
        "id": "uEnkW52lXg_c",
        "outputId": "e9fd9f4b-52df-430e-cd4a-2bbd7c6c263f"
      },
      "execution_count": 30,
      "outputs": [
        {
          "output_type": "display_data",
          "data": {
            "text/plain": [
              "<Figure size 800x500 with 1 Axes>"
            ],
            "image/png": "[encoded data removed]"
          },
          "metadata": {}
        }
      ]
    },
    {
      "cell_type": "markdown",
      "source": [
        "## Miglioramento del modello"
      ],
      "metadata": {
        "id": "br6jHccLZgqH"
      }
    },
    {
      "cell_type": "code",
      "source": [],
      "metadata": {
        "id": "p4c9qAgOZjxs"
      },
      "execution_count": null,
      "outputs": []
    }
  ]
}